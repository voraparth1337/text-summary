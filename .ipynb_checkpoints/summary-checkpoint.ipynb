{
 "cells": [
  {
   "cell_type": "code",
   "execution_count": 1,
   "metadata": {
    "collapsed": true
   },
   "outputs": [],
   "source": [
    "article = \"\"\" President Obama on Monday will ban the federal provision of some types of military-style equipment to local police departments and sharply restrict the availability of others, administration officials said.\n",
    " \n",
    "The ban is part of Mr. Obama’s push to ease tensions between law enforcement and minority communities in reaction to the crises in Baltimore; Ferguson, Mo.; and other cities.\n",
    " \n",
    "He is taking the action after a task force he created in January decided that police departments should be barred from using federal funds to acquire items that include tracked armored vehicles, the highest-caliber firearms and ammunition, and camouflage uniforms. The ban is part of a series of steps the president has made to try to build trust between law enforcement organizations and the citizens they are charged with protecting.\n",
    " \n",
    "Mr. Obama planned to promote the effort on Monday during a visit to Camden, N.J. The city, racked by poverty and crime, has become a national model for better relations between the police and citizens after replacing its beleaguered police force with a county-run system that prioritizes community ties.\n",
    " \n",
    "Mr. Obama is expected to hold up Camden as a counterpoint to places like Ferguson, where the killing of a young black man by a white police officer last summer and the violent protests that followed exposed long-simmering hostility between law enforcement agencies and minorities in cities around the country.\n",
    " \n",
    "The trip and the action on military-style equipment are to coincide with the release on Monday of a report from a policing task force that Mr. Obama formed late last year in response to the crisis in Ferguson. The 116-page report calls for law enforcement agencies to “embrace a guardian — rather than a warrior — mind-set to build trust and legitimacy both within agencies and with the public.” It contains dozens of recommendations for agencies throughout the country.\"\"\""
   ]
  },
  {
   "cell_type": "code",
   "execution_count": 2,
   "metadata": {
    "collapsed": true
   },
   "outputs": [],
   "source": [
    "import nltk\n",
    "results = []\n",
    "for sent_no, sentence in enumerate(nltk.sent_tokenize(article)):\n",
    "    no_of_tokens = len(nltk.word_tokenize(sentence))\n",
    "    #print(no_of_tokens)\n",
    "    tagged = nltk.pos_tag(nltk.word_tokenize(sentence))\n",
    "    no_of_nouns = len([word for word,pos in tagged if pos in [\"NN\",\"NNP\"] ])\n",
    "    #print(no_of_nouns)\n",
    "    ners=nltk.ne_chunk(nltk.pos_tag(nltk.word_tokenize(sentence)),binary=False)\n",
    "    no_of_ners= len([chunk for chunk in ners if hasattr(chunk,'label')])\n",
    "    #print(no_of_ners)\n",
    "    score=(no_of_ners+no_of_nouns)/float(no_of_tokens)\n",
    "    #print(score)\n",
    "    \n",
    "    results.append((sent_no,no_of_tokens,no_of_ners,no_of_nouns,score,sentence))"
   ]
  },
  {
   "cell_type": "code",
   "execution_count": 4,
   "metadata": {},
   "outputs": [
    {
     "name": "stdout",
     "output_type": "stream",
     "text": [
      "in order of importance\n",
      "--\n",
      "Mr. Obama planned to promote the effort on Monday during a visit to Camden, N.J.\n",
      "--\n",
      "The ban is part of Mr. Obama’s push to ease tensions between law enforcement and minority communities in reaction to the crises in Baltimore; Ferguson, Mo.\n",
      "--\n",
      "The trip and the action on military-style equipment are to coincide with the release on Monday of a report from a policing task force that Mr. Obama formed late last year in response to the crisis in Ferguson.\n",
      "--\n",
      "Mr. Obama is expected to hold up Camden as a counterpoint to places like Ferguson, where the killing of a young black man by a white police officer last summer and the violent protests that followed exposed long-simmering hostility between law enforcement agencies and minorities in cities around the country.\n",
      "--\n",
      " President Obama on Monday will ban the federal provision of some types of military-style equipment to local police departments and sharply restrict the availability of others, administration officials said.\n",
      "--\n",
      "The 116-page report calls for law enforcement agencies to “embrace a guardian — rather than a warrior — mind-set to build trust and legitimacy both within agencies and with the public.” It contains dozens of recommendations for agencies throughout the country.\n",
      "--\n",
      "The ban is part of a series of steps the president has made to try to build trust between law enforcement organizations and the citizens they are charged with protecting.\n",
      "--\n",
      "The city, racked by poverty and crime, has become a national model for better relations between the police and citizens after replacing its beleaguered police force with a county-run system that prioritizes community ties.\n",
      "--\n",
      "He is taking the action after a task force he created in January decided that police departments should be barred from using federal funds to acquire items that include tracked armored vehicles, the highest-caliber firearms and ammunition, and camouflage uniforms.\n",
      "--\n",
      "; and other cities.\n"
     ]
    }
   ],
   "source": [
    "print('in order of importance')\n",
    "for sent in sorted(results,key=lambda x: x[4],reverse=True):\n",
    "    print('--')\n",
    "    print(sent[5])"
   ]
  },
  {
   "cell_type": "code",
   "execution_count": 5,
   "metadata": {
    "collapsed": true
   },
   "outputs": [],
   "source": [
    "from sklearn.feature_extraction.text import TfidfVectorizer\n",
    "\n",
    "news_content=\"\"\"Mr. Obama planned to promote the effort on Monday during\n",
    "a visit to Camden, N.J. The ban is part of Mr. Obama's push to ease\n",
    "tensions between law enforcement and minority communities in reaction to\n",
    "the crises in Baltimore; Ferguson, Mo. We are, without a doubt, sitting\n",
    "at a defining moment in American policing, Ronald L. Davis, the director\n",
    "of the Office of Community Oriented Policing Services at the Department\n",
    "of Justice, told reporters in a conference call organized by the White\n",
    "House\"\"\""
   ]
  },
  {
   "cell_type": "code",
   "execution_count": 6,
   "metadata": {
    "collapsed": true
   },
   "outputs": [],
   "source": [
    "sentences=nltk.sent_tokenize(news_content)"
   ]
  },
  {
   "cell_type": "code",
   "execution_count": 7,
   "metadata": {
    "collapsed": true
   },
   "outputs": [],
   "source": [
    "vectorizer = TfidfVectorizer(norm='l2',min_df=0, use_idf=True, smooth_idf=False, sublinear_tf=True)"
   ]
  },
  {
   "cell_type": "code",
   "execution_count": 8,
   "metadata": {},
   "outputs": [
    {
     "name": "stdout",
     "output_type": "stream",
     "text": [
      "['american', 'and', 'are', 'at', 'baltimore', 'ban', 'between', 'by', 'call', 'camden', 'communities', 'community', 'conference', 'crises', 'davis', 'defining', 'department', 'director', 'doubt', 'during', 'ease', 'effort', 'enforcement', 'ferguson', 'house', 'in', 'is', 'justice', 'law', 'minority', 'mo', 'moment', 'monday', 'mr', 'obama', 'of', 'office', 'on', 'organized', 'oriented', 'part', 'planned', 'policing', 'promote', 'push', 'reaction', 'reporters', 'ronald', 'services', 'sitting', 'tensions', 'the', 'to', 'told', 'visit', 'we', 'white', 'without']\n",
      "[[ 0.          0.          0.          0.          0.          0.          0.\n",
      "   0.          0.          0.30993994  0.          0.          0.          0.\n",
      "   0.          0.          0.          0.          0.          0.30993994\n",
      "   0.          0.30993994  0.          0.          0.          0.          0.\n",
      "   0.          0.          0.          0.          0.          0.30993994\n",
      "   0.20757039  0.20757039  0.          0.          0.30993994  0.          0.\n",
      "   0.          0.30993994  0.          0.30993994  0.          0.          0.\n",
      "   0.          0.          0.          0.          0.14768804  0.35144723\n",
      "   0.          0.30993994  0.          0.          0.        ]\n",
      " [ 0.          0.21532526  0.          0.          0.21532526  0.21532526\n",
      "   0.21532526  0.          0.          0.          0.21532526  0.          0.\n",
      "   0.21532526  0.          0.          0.          0.          0.          0.\n",
      "   0.21532526  0.          0.21532526  0.21532526  0.          0.24416171\n",
      "   0.21532526  0.          0.21532526  0.21532526  0.21532526  0.          0.\n",
      "   0.14420584  0.14420584  0.14420584  0.          0.          0.          0.\n",
      "   0.21532526  0.          0.          0.          0.21532526  0.21532526\n",
      "   0.          0.          0.          0.          0.21532526  0.17372306\n",
      "   0.24416171  0.          0.          0.          0.          0.        ]\n",
      " [ 0.16834073  0.          0.16834073  0.28502563  0.          0.          0.\n",
      "   0.16834073  0.16834073  0.          0.          0.16834073  0.16834073\n",
      "   0.          0.16834073  0.16834073  0.16834073  0.16834073  0.16834073\n",
      "   0.          0.          0.          0.          0.          0.16834073\n",
      "   0.19088498  0.          0.16834073  0.          0.          0.\n",
      "   0.16834073  0.          0.          0.          0.23659702  0.16834073\n",
      "   0.          0.16834073  0.16834073  0.          0.          0.28502563\n",
      "   0.          0.          0.          0.16834073  0.16834073  0.16834073\n",
      "   0.16834073  0.          0.19141722  0.          0.16834073  0.\n",
      "   0.16834073  0.16834073  0.16834073]]\n"
     ]
    }
   ],
   "source": [
    "sklearn_binary=vectorizer.fit_transform(sentences)\n",
    "print(vectorizer.get_feature_names())\n",
    "print(sklearn_binary.toarray())"
   ]
  },
  {
   "cell_type": "code",
   "execution_count": 9,
   "metadata": {
    "collapsed": true
   },
   "outputs": [],
   "source": [
    "results = []\n",
    "for i in sklearn_binary.toarray():\n",
    "    results.append(i.sum()/float(len(i.nonzero()[0])))"
   ]
  },
  {
   "cell_type": "code",
   "execution_count": null,
   "metadata": {
    "collapsed": true
   },
   "outputs": [],
   "source": []
  }
 ],
 "metadata": {
  "kernelspec": {
   "display_name": "Python 3",
   "language": "python",
   "name": "python3"
  },
  "language_info": {
   "codemirror_mode": {
    "name": "ipython",
    "version": 3
   },
   "file_extension": ".py",
   "mimetype": "text/x-python",
   "name": "python",
   "nbconvert_exporter": "python",
   "pygments_lexer": "ipython3",
   "version": "3.6.1"
  }
 },
 "nbformat": 4,
 "nbformat_minor": 2
}
